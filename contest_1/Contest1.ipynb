{
 "cells": [
  {
   "cell_type": "markdown",
   "id": "a4e6ade0",
   "metadata": {},
   "source": [
    "Вася и Петя завели общий почтовый ящик и договорились, что паролем от него будет число a mod b. Пароль утверждал Петя, который использовал для подсчётов язык С++. Он забыл, что если a отрицательное, а b — положительное, то остаток от деления будет равен , то есть будет отрицательным, вопреки определению (такой он загадочный, этот C++). Помогите питонисту Васе восстановить пароль.\n",
    "\n",
    "Формат ввода\n",
    "Даны два целых числа, разделённые переводом строки. -1018 ≤ a ≤ 1018, 0<b<1018.\n",
    "\n",
    "Формат вывода\n",
    "Выведите одно целое число — пароль к почтовому ящику."
   ]
  },
  {
   "cell_type": "code",
   "execution_count": 9,
   "id": "caad172c",
   "metadata": {},
   "outputs": [
    {
     "name": "stdout",
     "output_type": "stream",
     "text": [
      "-7\n",
      "2\n",
      "-1\n"
     ]
    }
   ],
   "source": [
    "a = int(input())\n",
    "b = int(input())\n",
    "\n",
    "res= a%b\n",
    "\n",
    "if a >= 0:\n",
    "    print(res)\n",
    "else:\n",
    "    print(-res)"
   ]
  },
  {
   "cell_type": "code",
   "execution_count": null,
   "id": "5f13aaec",
   "metadata": {},
   "outputs": [],
   "source": []
  }
 ],
 "metadata": {
  "kernelspec": {
   "display_name": "Python 3",
   "language": "python",
   "name": "python3"
  },
  "language_info": {
   "codemirror_mode": {
    "name": "ipython",
    "version": 3
   },
   "file_extension": ".py",
   "mimetype": "text/x-python",
   "name": "python",
   "nbconvert_exporter": "python",
   "pygments_lexer": "ipython3",
   "version": "3.8.8"
  }
 },
 "nbformat": 4,
 "nbformat_minor": 5
}
