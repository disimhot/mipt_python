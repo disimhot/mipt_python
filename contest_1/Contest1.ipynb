{
 "cells": [
  {
   "cell_type": "markdown",
   "id": "a4e6ade0",
   "metadata": {},
   "source": [
    "1) Вася и Петя завели общий почтовый ящик и договорились, что паролем от него будет число a mod b. Пароль утверждал Петя, который использовал для подсчётов язык С++. Он забыл, что если a отрицательное, а b — положительное, то остаток от деления будет равен , то есть будет отрицательным, вопреки определению (такой он загадочный, этот C++). Помогите питонисту Васе восстановить пароль.\n",
    "\n",
    "Формат ввода\n",
    "Даны два целых числа, разделённые переводом строки. -1018 ≤ a ≤ 1018, 0<b<1018.\n",
    "\n",
    "Формат вывода\n",
    "Выведите одно целое число — пароль к почтовому ящику."
   ]
  },
  {
   "cell_type": "code",
   "execution_count": 9,
   "id": "caad172c",
   "metadata": {},
   "outputs": [
    {
     "name": "stdout",
     "output_type": "stream",
     "text": [
      "-7\n",
      "2\n",
      "-1\n"
     ]
    }
   ],
   "source": [
    "a = int(input())\n",
    "b = int(input())\n",
    "\n",
    "res= a%b\n",
    "\n",
    "if a >= 0:\n",
    "    print(res)\n",
    "else:\n",
    "    print(-res)"
   ]
  },
  {
   "cell_type": "markdown",
   "id": "2ea53b79",
   "metadata": {},
   "source": [
    "2) Вася и Петя решили придумать более сложный пароль для своего почтового ящика. Они решили взять числа a и b и записать подряд без пробелов числа a+b, ab и a ⋅ b. Ваша задача - помочь им.\n",
    "\n",
    "Формат ввода\n",
    "Даны два целых числа, разделённые переводом строки. -10100 ≤ a ≤ 10100, 0<b<1000.\n",
    "\n",
    "Формат вывода\n",
    "Выведите одно целое число — новый пароль от почтового ящика Пети и Васи."
   ]
  },
  {
   "cell_type": "code",
   "execution_count": 46,
   "id": "fdc36a81",
   "metadata": {},
   "outputs": [
    {
     "ename": "AttributeError",
     "evalue": "module 'sys' has no attribute 'set_int_max_str_digits'",
     "output_type": "error",
     "traceback": [
      "\u001b[0;31m---------------------------------------------------------------------------\u001b[0m",
      "\u001b[0;31mAttributeError\u001b[0m                            Traceback (most recent call last)",
      "\u001b[0;32m<ipython-input-46-7bd07c331a15>\u001b[0m in \u001b[0;36m<module>\u001b[0;34m\u001b[0m\n\u001b[1;32m      1\u001b[0m \u001b[0;32mimport\u001b[0m \u001b[0msys\u001b[0m\u001b[0;34m\u001b[0m\u001b[0;34m\u001b[0m\u001b[0m\n\u001b[0;32m----> 2\u001b[0;31m \u001b[0msys\u001b[0m\u001b[0;34m.\u001b[0m\u001b[0mset_int_max_str_digits\u001b[0m\u001b[0;34m(\u001b[0m\u001b[0;36m100000000\u001b[0m\u001b[0;34m)\u001b[0m\u001b[0;34m\u001b[0m\u001b[0;34m\u001b[0m\u001b[0m\n\u001b[0m\u001b[1;32m      3\u001b[0m \u001b[0ma\u001b[0m \u001b[0;34m=\u001b[0m \u001b[0mint\u001b[0m\u001b[0;34m(\u001b[0m\u001b[0minput\u001b[0m\u001b[0;34m(\u001b[0m\u001b[0;34m)\u001b[0m\u001b[0;34m)\u001b[0m\u001b[0;34m\u001b[0m\u001b[0;34m\u001b[0m\u001b[0m\n\u001b[1;32m      4\u001b[0m \u001b[0mb\u001b[0m \u001b[0;34m=\u001b[0m \u001b[0mint\u001b[0m\u001b[0;34m(\u001b[0m\u001b[0minput\u001b[0m\u001b[0;34m(\u001b[0m\u001b[0;34m)\u001b[0m\u001b[0;34m)\u001b[0m\u001b[0;34m\u001b[0m\u001b[0;34m\u001b[0m\u001b[0m\n\u001b[1;32m      5\u001b[0m \u001b[0ms\u001b[0m \u001b[0;34m=\u001b[0m \u001b[0mstr\u001b[0m\u001b[0;34m(\u001b[0m\u001b[0ma\u001b[0m \u001b[0;34m+\u001b[0m \u001b[0mb\u001b[0m\u001b[0;34m)\u001b[0m\u001b[0;34m\u001b[0m\u001b[0;34m\u001b[0m\u001b[0m\n",
      "\u001b[0;31mAttributeError\u001b[0m: module 'sys' has no attribute 'set_int_max_str_digits'"
     ]
    }
   ],
   "source": [
    "import sys\n",
    "sys.set_int_max_str_digits(100000000)\n",
    "a = int(input())\n",
    "b = int(input())\n",
    "s = str(a + b)\n",
    "p = str(a**b)\n",
    "m = str(a * b)\n",
    "\n",
    "print(f'{s}{p}{m}')"
   ]
  },
  {
   "cell_type": "markdown",
   "id": "257bab96",
   "metadata": {},
   "source": [
    "Бухгалтер Зинаида Марковна пытается отправить в техподдержку программы \"2ДКонтора\" жалобу на некорректную работу программы, которая не даёт ей составить квартальный отчёт. Окошко для сообщения на сайте техподдержки имеет ширину \n",
    "a\n",
    "a, то есть в одной строке помещается не более a символов (не считая символа перевода строки, то есть разместить строку длины \n",
    "a\n",
    "+\n",
    "1\n",
    "a+1, в которой последний символ — перевод строки, возможно).\n",
    "\n",
    "Также для того, чтобы сообщение было принято, оно должно быть корректно отформатировано, а именно:\n",
    "\n",
    "В одной строке допускается наличие не более \n",
    "b\n",
    "b слов,\n",
    "Соседние слова в строке разделяются ровно одним пробелом.\n",
    "Каждая строка должна завершаться ровно одним переводом строки.\n",
    "Первый символ строки, а также символ перед переводом строки не могут быть пробелами.\n",
    "Если очередное слово можно добавить в текущую строку так, чтобы выполнялись все предыдущие пункты и строка не переполнилась, то его необходимо в неё добавить. Если эти критерии не выполнены, строка не принимается."
   ]
  },
  {
   "cell_type": "code",
   "execution_count": 91,
   "id": "30fbedb2",
   "metadata": {},
   "outputs": [
    {
     "name": "stdout",
     "output_type": "stream",
     "text": [
      "['a s v', 'd']\n"
     ]
    }
   ],
   "source": [
    "def format_mes(wdth, max_num, mes_list):\n",
    "    formatted = []\n",
    "    cut_max_num = max_num\n",
    "\n",
    "    for m in mes_list:\n",
    "        if wdth == 1:\n",
    "            return mes_list\n",
    "        else:\n",
    "            for i in reversed(range(cut_max_num + 1)):\n",
    "                cut_list = mes_list[0:cut_max_num]\n",
    "                line = \" \".join(cut_list)\n",
    "                if (len(line)) <= wdth:\n",
    "                    formatted.append(line)\n",
    "                    mes_list = mes_list[cut_max_num:len(mes_list)]\n",
    "                    cut_max_num = max_num\n",
    "                    break\n",
    "                else:\n",
    "                    cut_max_num -=1\n",
    "    formatted = [s for s in formatted if len(s) > 0]\n",
    "    return formatted\n",
    "\n",
    "\n",
    "\n",
    "with open('input.txt', 'r') as fin:\n",
    "    lines = [line.rstrip() for line in fin]\n",
    "    lines = lines[:-1]\n",
    "    a, b, *text = lines\n",
    "\n",
    "formatted_mes = format_mes(int(a), int(b), text)\n",
    "\n",
    "with open('output.txt', 'w') as fout:\n",
    "    for i, line in enumerate(formatted_mes):\n",
    "        if i == (len(formatted_mes) - 1):\n",
    "            fout.write(f'{line}')\n",
    "        else:\n",
    "            fout.write(f'{line}\\n')\n",
    "\n",
    "    \n",
    "fin.close()\n",
    "fout.close()"
   ]
  },
  {
   "cell_type": "markdown",
   "id": "56b7252b",
   "metadata": {},
   "source": [
    "Офис сервиса shark.olymp был когда-то давно спроектирован выдающимся архитектором Василием Аладдиновичем Непутёвым. В центре серверной офиса стоит колонна. Сисадмин Пахом повесил под потолком прямоугольный роутер, однако из-за колонны интернет работает плохо. Вася и Петя решили повесить второй, точно такой же роутер, причём так, чтобы он висел симметрично первому роутеру относительно колонны. К счастью, потолок серверной был оклеен миллиметровкой с координатами.\n",
    "\n",
    "Вася и Петя, используя дизайн потолка, определили координаты двух противоположных углов роутера и координаты центра колонны. Корпус роутера был параллелен линиям на миллиметровке. Однако не исключено, что миллиметровка вокруг колонны была наклеена неправильно. Несмотря на то, что колонна очень узкая, её центр не может лежать внутри или на границе роутера.\n",
    "\n",
    "Помогите ребятам: проверьте, правильно ли определены координаты колонны, и вычислите координаты нового роутера.\n",
    "\n",
    "Формат ввода\n",
    "Даны шесть целых чисел, разделённые переводами строки. Все числа во входных данных по абсолютной величине не превосходят \n",
    "1\n",
    "0\n",
    "9\n",
    "10 \n",
    "9\n",
    " . Первые два числа — координаты \n",
    "x\n",
    "a\n",
    "x \n",
    "a\n",
    "​\n",
    "  и \n",
    "y\n",
    "a\n",
    "y \n",
    "a\n",
    "​\n",
    "  одного из углов роутера — точки A, третье и четвёртое числа — координаты \n",
    "x\n",
    "b\n",
    "x \n",
    "b\n",
    "​\n",
    "  и \n",
    "y\n",
    "b\n",
    "y \n",
    "b\n",
    "​\n",
    "  противоположного первому угла роутера — точки B. Два последних числа — координаты колонны \n",
    "x\n",
    "c\n",
    "x \n",
    "c\n",
    "​\n",
    "  и \n",
    "y\n",
    "c\n",
    "y \n",
    "c\n",
    "​\n",
    "  (проекцию колонны на потолок считаем точкой). Гарантируется, что роутер имеет ненулевую площадь.\n",
    "\n"
   ]
  },
  {
   "cell_type": "code",
   "execution_count": 16,
   "id": "d2d900e6",
   "metadata": {},
   "outputs": [],
   "source": [
    "def find_coordinates(x_a, y_a, x_b, y_b, x_c, y_c):\n",
    "    if (x_c == x_a or x_c == x_b) or (y_c == y_a or y_c == y_b):\n",
    "        return False\n",
    "    else:\n",
    "        simm_x_a = 2*x_c - x_a\n",
    "        simm_y_a = 2*y_c - y_a\n",
    "        simm_x_b = 2*x_c - x_b\n",
    "        simm_y_b = 2*y_c - y_b\n",
    "        return [simm_x_a, simm_y_a, simm_x_b, simm_y_b]\n",
    "\n",
    "with open('input.txt', 'r') as fin:\n",
    "    coord = [int(line.rstrip()) for line in fin]\n",
    "\n",
    "\n",
    "res = find_coordinates(*coord)\n",
    "# print(res)\n",
    "with open('output.txt', 'w') as fout:\n",
    "    if res == False:\n",
    "        fout.write(f'False\\n')\n",
    "    else:\n",
    "        for c in res:\n",
    "            fout.write(f'{c}\\n')\n",
    "    \n",
    "fin.close()\n",
    "fout.close()"
   ]
  },
  {
   "cell_type": "code",
   "execution_count": null,
   "id": "891a7fdc",
   "metadata": {},
   "outputs": [],
   "source": []
  },
  {
   "cell_type": "markdown",
   "id": "f0e60447",
   "metadata": {},
   "source": [
    "Это интерактивная задача.\n",
    "На плоскости отмечены все целые точки с координатами, не превосходящими \n",
    "1\n",
    "0\n",
    "6\n",
    ". Перемещение происходит по линиям, параллельным координатным осям (то есть расстояние между двумя точками с координатами \n",
    "(\n",
    "x\n",
    "1\n",
    ",\n",
    "y\n",
    "1\n",
    ")\n",
    " и \n",
    "(\n",
    "x\n",
    "2\n",
    ",\n",
    "y\n",
    "2\n",
    ")\n",
    " равно \n",
    "|\n",
    "(\n",
    "x\n",
    "1\n",
    "−\n",
    "x\n",
    "2\n",
    ")\n",
    "|\n",
    "+\n",
    "|\n",
    "(\n",
    "y\n",
    "1\n",
    "−\n",
    "y\n",
    "2\n",
    ")\n",
    "|\n",
    ").\n",
    "Загадана неизвестная отмеченная точка \n",
    "A\n",
    ". Вы можете за один запрос узнать расстояние от любой выбранной отмеченной точки до точки \n",
    "A\n",
    ".\n",
    "Изначально планировалось, что Вы должны угадать координаты точки \n",
    "A\n",
    " за не более \n",
    "Q\n",
    " запросов. Однако интерактор поломался, и \n",
    "Q\n",
    " перестало выводиться. Однако и в таком виде задачу можно решить, что Вас и просят сделать. Известно, что \n",
    "2\n",
    "≤\n",
    "Q\n",
    "≤\n",
    "1\n",
    "0\n",
    ".\n",
    "Протокол взаимодействия\n",
    "\n",
    "Ваша программа делает запросы в формате ‘?’ \n",
    "X\n",
    " \n",
    "Y\n",
    " — узнать расстояние от точки с координатами \n",
    "(\n",
    "X\n",
    ",\n",
    "Y\n",
    ")\n",
    " до загаданной точки (\n",
    "−\n",
    "1\n",
    "0\n",
    "6\n",
    "≤\n",
    "X\n",
    ",\n",
    "Y\n",
    "≤\n",
    "1\n",
    "0\n",
    "6\n",
    "). Если вы готовы вывести ответ, то используйте формат ‘!’ \n",
    "X\n",
    " \n",
    "Y\n",
    " (\n",
    "X\n",
    " и \n",
    "Y\n",
    " — координаты загаданной точки), после чего завершите работу программы. Вывод ответа за запрос не считается.\n",
    "После каждого запроса и вывода ответа не забывайте выводить символ конца строки, а также сбрасывать буфер вывода, используя stdout.flush()."
   ]
  },
  {
   "cell_type": "code",
   "execution_count": 46,
   "id": "9f62fe8f",
   "metadata": {},
   "outputs": [
    {
     "name": "stdout",
     "output_type": "stream",
     "text": [
      "? -1000000 -1000000\n",
      "1000000\n",
      "? 1000000 1000000\n",
      "2985984\n",
      "(-282483, -1696541)\n",
      "(-1696541, -282483)\n",
      "! -1696541 -282483 \n",
      "\n"
     ]
    }
   ],
   "source": [
    "import sys\n",
    "import math\n",
    "\n",
    "x0, y0 = (10)**6, -10**6\n",
    "x1, y1 = (10)**6, 10**6\n",
    "\n",
    "distances = []\n",
    "\n",
    "def get_intersections(r0, r1):\n",
    "    # circle 1: (x0, y0), radius r0\n",
    "    # circle 2: (x1, y1), radius r1\n",
    "\n",
    "    d=math.sqrt((x1-x0)**2 + (y1-y0)**2)\n",
    "    a=(r0**2-r1**2+d**2)/(2*d)\n",
    "    h=math.sqrt((r0**2-a**2))\n",
    "    x2=round(x0+a*(x1-x0)/d)\n",
    "    y2=round(y0+a*(y1-y0)/d)\n",
    "    \n",
    "    x3=round(x2+h*(y1-y0)/d)    \n",
    "    y3=round(y2-h*(x1-x0)/d)\n",
    "    x4=round(x2-h*(y1-y0)/d)\n",
    "    y4=round(y2+h*(x1-x0)/d)\n",
    "    if x3 >= -10**6 or x3 <= 10**6 or y3 >= -10**6 or y3 <=10**6:\n",
    "        return (x3, y3)\n",
    "    else:\n",
    "        return (x4, y4)\n",
    "    \n",
    "\n",
    "for x, y in [(x0, y0), (x1, y1)]:\n",
    "    print(f'? {x} {y}')\n",
    "    d = int(input())\n",
    "    distances.append(d)\n",
    "\n",
    "res = get_intersections(*distances)\n",
    "\n",
    "print(f'! {res[0]} {res[1]} \\n')\n",
    "\n",
    "sys.stdout.flush()"
   ]
  },
  {
   "cell_type": "code",
   "execution_count": 54,
   "id": "df7bf210",
   "metadata": {},
   "outputs": [
    {
     "name": "stdout",
     "output_type": "stream",
     "text": [
      "? 1000000 -1000000\n",
      "10000000\n",
      "? 1000000 1000000\n",
      "1000000\n",
      "! -3500000 4500000 \n",
      "\n"
     ]
    }
   ],
   "source": [
    "import sys\n",
    "import math\n",
    "\n",
    "x0, y0 = (10)**6, -10**6\n",
    "x1, y1 = (10)**6, 10**6\n",
    "\n",
    "distances = []\n",
    "\n",
    "def get_point(r0, r1):\n",
    "    d = r0 + r1\n",
    "    proj_x = int((d - 2*x0) / 2)\n",
    "    x = x1 - proj_x\n",
    "    proj_y = r1 - proj_x\n",
    "    y = y1 - proj_y\n",
    "    return (x,y)\n",
    "    \n",
    "\n",
    "for x, y in [(x0, y0), (x1, y1)]:\n",
    "    print(f'? {x} {y}')\n",
    "    d = int(input())\n",
    "    distances.append(d)\n",
    "\n",
    "res = get_point(*distances)\n",
    "\n",
    "print(f'! {res[0]} {res[1]} \\n')\n",
    "\n",
    "sys.stdout.flush()"
   ]
  },
  {
   "cell_type": "markdown",
   "id": "274aea79",
   "metadata": {},
   "source": [
    "Бухгалтерская программа Зинаиды Марковны в последнее время начала плохо работать. Она позвала на помощь сисадмина Пахома, и тот первым делом решил почитать логи программы. Логи записываются в файл в следующем формате:\n",
    "\n",
    "hh:mm:ss DD/MM/YYYY 127.0.0.1 message\n",
    "\n",
    "В сообщении могут присутствовать только латинские буквы, цифры, точки и пробелы. Если точка стоит в конце слова, она считается знаком препинания. Если в конце слова стоят две точки, первая из них считается частью слова. Чтобы определить, в каком файле произошла поломка, Пахому надо проанализировать все сообщения из логов. Но ему лень! Он хочет выписать все имена файлов, которые упоминаются в сообщениях, и сложить их в файл. Помогите ему!\n",
    "\n",
    "Интересующие Пахома файлы имеют имена, состоящие из строчных латинских букв, цифр и точек, и имеют расширения .hlm или .brhl . Например, файлы abacaba123.hlm и 123.brhl интересуют его, а a.brhl.py и hlm.cpp нет. Также Пахома не интересуют имена, начинающиеся с точки."
   ]
  },
  {
   "cell_type": "markdown",
   "id": "eca87484",
   "metadata": {},
   "source": [
    "Бухгалтерская программа Зинаиды Марковны в последнее время начала плохо работать. Она позвала на помощь сисадмина Пахома, и тот первым делом решил почитать логи программы. Логи записываются в файл в следующем формате:\n",
    "\n",
    "hh:mm:ss DD/MM/YYYY 127.0.0.1 message\n",
    "\n",
    "В сообщении могут присутствовать только латинские буквы, цифры, точки и пробелы. Если точка стоит в конце слова, она считается знаком препинания. Если в конце слова стоят две точки, первая из них считается частью слова. Чтобы определить, в каком файле произошла поломка, Пахому надо проанализировать все сообщения из логов. Но ему лень! Он хочет выписать все имена файлов, которые упоминаются в сообщениях, и сложить их в файл. Помогите ему!\n",
    "\n",
    "Интересующие Пахома файлы имеют имена, состоящие из строчных латинских букв, цифр и точек, и имеют расширения .hlm или .brhl . Например, файлы abacaba123.hlm и 123.brhl интересуют его, а a.brhl.py и hlm.cpp нет. Также Пахома не интересуют имена, начинающиеся с точки."
   ]
  },
  {
   "cell_type": "code",
   "execution_count": 80,
   "id": "54ec1461",
   "metadata": {},
   "outputs": [
    {
     "name": "stdout",
     "output_type": "stream",
     "text": [
      "['abc.hlm']\n"
     ]
    }
   ],
   "source": [
    "files = []\n",
    "suffixes = ('.hlm', '.hlm.', '.brhl', '.brhl.')\n",
    "\n",
    "def formt(w):\n",
    "    if w.endswith('.'):\n",
    "        return w[:-1]\n",
    "    return w\n",
    "\n",
    "def find_files(line):\n",
    "    arr = line.split( )\n",
    "    res = [formt(f) for f in arr if (f.endswith(suffixes) and\n",
    "                                     (not f.startswith('.') and f.islower()))]\n",
    "    return res\n",
    "\n",
    "with open('input.txt', 'r') as fin:\n",
    "    lines = [line.rstrip() for line in fin]\n",
    "\n",
    "for l in lines:\n",
    "    names = find_files(l)\n",
    "    files.extend(names)\n",
    "# print(files)\n",
    "with open('output.txt', 'w') as fout:\n",
    "    for i, f in enumerate(files):\n",
    "        if i == (len(files) - 1):\n",
    "            fout.write(f'{f}')\n",
    "        else:\n",
    "            fout.write(f'{f}\\n')\n",
    "\n",
    "    \n",
    "fin.close()\n",
    "fout.close()"
   ]
  },
  {
   "cell_type": "markdown",
   "id": "4c316336",
   "metadata": {},
   "source": [
    "Напишите декоратор @takes, который будет проверять правильность типов входных аргументов функции.\n",
    "Декоратор принимает на вход типы аргументов и декорирует функцию таким образом, что она генеририрует исключение TypeError, если хотя бы один из аргументов имеет неверный тип.\n",
    "Если аргументов больше, чем типов, то ошибку генерировать не нужно (возможно, точный тип известен только для первых аргументов, его, как раз, надо проверить).\n",
    "Если типов больше, чем аргументов, то это тоже ошибка только в случае, если переданные аргументы не подходят под соответствующие им по порядку типы. (декоратор может быть применен к функциям с переменным числом аргументов).\n",
    "\n",
    "Декоратор должен вести себя порядочно, то есть не должен затирать основные аргументы функции (__name__, __doc__, __module__).\n",
    "\n",
    "Для простоты можно считать, что у функции нет именованных аргументов.\n",
    "\n",
    "Генерацию исключений воспринимайте пока как волшебный способ просигнализировать об ошибке. Делается это так: raise TypeError\n"
   ]
  },
  {
   "cell_type": "code",
   "execution_count": 93,
   "id": "095b133f",
   "metadata": {},
   "outputs": [],
   "source": [
    "import sys\n",
    "import functools\n",
    "\n",
    "\n",
    "def takes(*types):\n",
    "    def wraps(func):\n",
    "        @functools.wraps(func)\n",
    "        def wrapper(*args, **kwargs):\n",
    "            smaller_s = len(types) if len(types) <= len(args) else len(args)\n",
    "            for i in range(smaller_s):\n",
    "                if not isinstance(args[i], types[i]):\n",
    "                    raise TypeError\n",
    "            return func(*args, **kwargs)\n",
    "        return wrapper\n",
    "    return wraps\n",
    "\n",
    "\n",
    "exec(sys.stdin.read())"
   ]
  },
  {
   "cell_type": "code",
   "execution_count": 95,
   "id": "1f17eed7",
   "metadata": {},
   "outputs": [
    {
     "name": "stdout",
     "output_type": "stream",
     "text": [
      "1 qeew\n"
     ]
    }
   ],
   "source": [
    "# this is for similar behaviour in python 2 and python 3\n",
    "\n",
    "@takes(int, str)\n",
    "def f(a, b):\n",
    "    print(a, b)\n",
    "    \n",
    "try:\n",
    "    f(1, 'qeew')\n",
    "except Exception as e:\n",
    "    print(type(e).__name__)\n"
   ]
  },
  {
   "cell_type": "markdown",
   "id": "3df280bf",
   "metadata": {},
   "source": [
    "Предположим такую невозможную ситуацию: у вас есть модуль на python, который не работает.\n",
    "При попытке его импорта интерпретатор ругается на какое-то количество синтаксических ошибок и непонятных исключений.\n",
    "Но выход есть!\n",
    "Напишите функцию force_load, которая будет импортировать этот злосчастный модуль и выкидывать из него все строчки с ошибками.\n",
    "\n",
    "Пусть на вход она принимает имя модуля, который лежит в той же директории, а возвращает словарь со всеми объектами, которые удалось без ошибок создать на этапе импорта.\n",
    "Например, есть модуль broken.py:\n",
    "def foo(): \n",
    "    return 1 \n",
    " \n",
    "refrigerator \n",
    " \n",
    " \n",
    "raise TypeError(’I can\\’t type!’) \n",
    " \n",
    "def bar(): \n",
    "    return 2\n",
    "Предположим, у нас уже есть функция force_load - попробуем ее использовать:\n",
    " m = force_load(’broken’) \n",
    "m \n",
    "{ ’bar’: <function main.bar>, \n",
    " ’foo’: <function main.foo>} \n",
    ">>>> m[’bar’]() \n",
    "2 \n",
    ">>>> m[’foo’]() \n",
    "1\n"
   ]
  },
  {
   "cell_type": "code",
   "execution_count": 132,
   "id": "9656630c",
   "metadata": {},
   "outputs": [
    {
     "ename": "SyntaxError",
     "evalue": "invalid character in identifier (broken.py, line 7)",
     "output_type": "error",
     "traceback": [
      "Traceback \u001b[0;36m(most recent call last)\u001b[0m:\n",
      "  File \u001b[1;32m\"/Users/elenaefimova/opt/anaconda3/lib/python3.8/site-packages/IPython/core/interactiveshell.py\"\u001b[0m, line \u001b[1;32m3437\u001b[0m, in \u001b[1;35mrun_code\u001b[0m\n    exec(code_obj, self.user_global_ns, self.user_ns)\n",
      "\u001b[0;36m  File \u001b[0;32m\"<ipython-input-132-7390df58044c>\"\u001b[0;36m, line \u001b[0;32m2\u001b[0;36m, in \u001b[0;35m<module>\u001b[0;36m\u001b[0m\n\u001b[0;31m    import broken\u001b[0m\n",
      "\u001b[0;36m  File \u001b[0;32m\"/Users/elenaefimova/Documents/Github/mipt_python/contest_1/broken.py\"\u001b[0;36m, line \u001b[0;32m7\u001b[0m\n\u001b[0;31m    raise TypeError(’I can\\’t type!’)\u001b[0m\n\u001b[0m                     ^\u001b[0m\n\u001b[0;31mSyntaxError\u001b[0m\u001b[0;31m:\u001b[0m invalid character in identifier\n"
     ]
    }
   ],
   "source": [
    "# from '.' import 'ok.py'\n",
    "import broken"
   ]
  },
  {
   "cell_type": "code",
   "execution_count": 52,
   "id": "391183b1",
   "metadata": {},
   "outputs": [],
   "source": [
    "import sys, traceback\n",
    "\n",
    "import inspect\n",
    "\n",
    "code = \"\"\"\n",
    "import broken\n",
    "\"\"\"\n",
    "\n",
    "def force_load(func):\n",
    "#     exec(compile(code, '<string>', 'exec'))\n",
    "    try:\n",
    "        exec(code)\n",
    "    except Exception as err:\n",
    "         traceback.print_stack()\n",
    "#          print(repr(traceback.format_stack()))\n",
    "#          print(repr(traceback.extract_stack()))\n",
    "\n",
    "    \n",
    "#     exec(’’.join(lines), globals(), ldict)"
   ]
  },
  {
   "cell_type": "code",
   "execution_count": 51,
   "id": "68cb6b88",
   "metadata": {},
   "outputs": [
    {
     "name": "stderr",
     "output_type": "stream",
     "text": [
      "  File \"/Users/elenaefimova/opt/anaconda3/lib/python3.8/runpy.py\", line 194, in _run_module_as_main\n",
      "    return _run_code(code, main_globals, None,\n",
      "  File \"/Users/elenaefimova/opt/anaconda3/lib/python3.8/runpy.py\", line 87, in _run_code\n",
      "    exec(code, run_globals)\n",
      "  File \"/Users/elenaefimova/opt/anaconda3/lib/python3.8/site-packages/ipykernel_launcher.py\", line 16, in <module>\n",
      "    app.launch_new_instance()\n",
      "  File \"/Users/elenaefimova/opt/anaconda3/lib/python3.8/site-packages/traitlets/config/application.py\", line 845, in launch_instance\n",
      "    app.start()\n",
      "  File \"/Users/elenaefimova/opt/anaconda3/lib/python3.8/site-packages/ipykernel/kernelapp.py\", line 612, in start\n",
      "    self.io_loop.start()\n",
      "  File \"/Users/elenaefimova/opt/anaconda3/lib/python3.8/site-packages/tornado/platform/asyncio.py\", line 199, in start\n",
      "    self.asyncio_loop.run_forever()\n",
      "  File \"/Users/elenaefimova/opt/anaconda3/lib/python3.8/asyncio/base_events.py\", line 570, in run_forever\n",
      "    self._run_once()\n",
      "  File \"/Users/elenaefimova/opt/anaconda3/lib/python3.8/asyncio/base_events.py\", line 1859, in _run_once\n",
      "    handle._run()\n",
      "  File \"/Users/elenaefimova/opt/anaconda3/lib/python3.8/asyncio/events.py\", line 81, in _run\n",
      "    self._context.run(self._callback, *self._args)\n",
      "  File \"/Users/elenaefimova/opt/anaconda3/lib/python3.8/site-packages/tornado/ioloop.py\", line 688, in <lambda>\n",
      "    lambda f: self._run_callback(functools.partial(callback, future))\n",
      "  File \"/Users/elenaefimova/opt/anaconda3/lib/python3.8/site-packages/tornado/ioloop.py\", line 741, in _run_callback\n",
      "    ret = callback()\n",
      "  File \"/Users/elenaefimova/opt/anaconda3/lib/python3.8/site-packages/tornado/gen.py\", line 814, in inner\n",
      "    self.ctx_run(self.run)\n",
      "  File \"/Users/elenaefimova/opt/anaconda3/lib/python3.8/site-packages/tornado/gen.py\", line 775, in run\n",
      "    yielded = self.gen.send(value)\n",
      "  File \"/Users/elenaefimova/opt/anaconda3/lib/python3.8/site-packages/ipykernel/kernelbase.py\", line 365, in process_one\n",
      "    yield gen.maybe_future(dispatch(*args))\n",
      "  File \"/Users/elenaefimova/opt/anaconda3/lib/python3.8/site-packages/tornado/gen.py\", line 234, in wrapper\n",
      "    yielded = ctx_run(next, result)\n",
      "  File \"/Users/elenaefimova/opt/anaconda3/lib/python3.8/site-packages/ipykernel/kernelbase.py\", line 268, in dispatch_shell\n",
      "    yield gen.maybe_future(handler(stream, idents, msg))\n",
      "  File \"/Users/elenaefimova/opt/anaconda3/lib/python3.8/site-packages/tornado/gen.py\", line 234, in wrapper\n",
      "    yielded = ctx_run(next, result)\n",
      "  File \"/Users/elenaefimova/opt/anaconda3/lib/python3.8/site-packages/ipykernel/kernelbase.py\", line 543, in execute_request\n",
      "    self.do_execute(\n",
      "  File \"/Users/elenaefimova/opt/anaconda3/lib/python3.8/site-packages/tornado/gen.py\", line 234, in wrapper\n",
      "    yielded = ctx_run(next, result)\n",
      "  File \"/Users/elenaefimova/opt/anaconda3/lib/python3.8/site-packages/ipykernel/ipkernel.py\", line 306, in do_execute\n",
      "    res = shell.run_cell(code, store_history=store_history, silent=silent)\n",
      "  File \"/Users/elenaefimova/opt/anaconda3/lib/python3.8/site-packages/ipykernel/zmqshell.py\", line 536, in run_cell\n",
      "    return super(ZMQInteractiveShell, self).run_cell(*args, **kwargs)\n",
      "  File \"/Users/elenaefimova/opt/anaconda3/lib/python3.8/site-packages/IPython/core/interactiveshell.py\", line 2894, in run_cell\n",
      "    result = self._run_cell(\n",
      "  File \"/Users/elenaefimova/opt/anaconda3/lib/python3.8/site-packages/IPython/core/interactiveshell.py\", line 2940, in _run_cell\n",
      "    return runner(coro)\n",
      "  File \"/Users/elenaefimova/opt/anaconda3/lib/python3.8/site-packages/IPython/core/async_helpers.py\", line 68, in _pseudo_sync_runner\n",
      "    coro.send(None)\n",
      "  File \"/Users/elenaefimova/opt/anaconda3/lib/python3.8/site-packages/IPython/core/interactiveshell.py\", line 3165, in run_cell_async\n",
      "    has_raised = await self.run_ast_nodes(code_ast.body, cell_name,\n",
      "  File \"/Users/elenaefimova/opt/anaconda3/lib/python3.8/site-packages/IPython/core/interactiveshell.py\", line 3357, in run_ast_nodes\n",
      "    if (await self.run_code(code, result,  async_=asy)):\n",
      "  File \"/Users/elenaefimova/opt/anaconda3/lib/python3.8/site-packages/IPython/core/interactiveshell.py\", line 3437, in run_code\n",
      "    exec(code_obj, self.user_global_ns, self.user_ns)\n",
      "  File \"<ipython-input-51-f6435e29c053>\", line 1, in <module>\n",
      "    force_load('broken')\n",
      "  File \"<ipython-input-50-e6aff2bf6e77>\", line 16, in force_load\n",
      "    traceback.print_stack()\n"
     ]
    }
   ],
   "source": [
    "force_load('broken')"
   ]
  },
  {
   "cell_type": "code",
   "execution_count": 45,
   "id": "07e5740a",
   "metadata": {},
   "outputs": [
    {
     "ename": "SyntaxError",
     "evalue": "invalid character in identifier (broken.py, line 7)",
     "output_type": "error",
     "traceback": [
      "Traceback \u001b[0;36m(most recent call last)\u001b[0m:\n",
      "  File \u001b[1;32m\"/Users/elenaefimova/opt/anaconda3/lib/python3.8/site-packages/IPython/core/interactiveshell.py\"\u001b[0m, line \u001b[1;32m3437\u001b[0m, in \u001b[1;35mrun_code\u001b[0m\n    exec(code_obj, self.user_global_ns, self.user_ns)\n",
      "\u001b[0;36m  File \u001b[0;32m\"<ipython-input-45-a446c83078e4>\"\u001b[0;36m, line \u001b[0;32m2\u001b[0;36m, in \u001b[0;35m<module>\u001b[0;36m\u001b[0m\n\u001b[0;31m    import broken\u001b[0m\n",
      "\u001b[0;36m  File \u001b[0;32m\"/Users/elenaefimova/Documents/Github/mipt_python/contest_1/broken.py\"\u001b[0;36m, line \u001b[0;32m7\u001b[0m\n\u001b[0;31m    raise TypeError(’I can\\’t type!’)\u001b[0m\n\u001b[0m                     ^\u001b[0m\n\u001b[0;31mSyntaxError\u001b[0m\u001b[0;31m:\u001b[0m invalid character in identifier\n"
     ]
    }
   ],
   "source": [
    "import inspect\n",
    "import broken\n",
    "lines = inspect.getsource(broken)\n",
    "print(lines)"
   ]
  },
  {
   "cell_type": "code",
   "execution_count": 54,
   "id": "029321e9",
   "metadata": {},
   "outputs": [
    {
     "ename": "TypeError",
     "evalue": "'module' object is not callable",
     "output_type": "error",
     "traceback": [
      "\u001b[0;31m---------------------------------------------------------------------------\u001b[0m",
      "\u001b[0;31mTypeError\u001b[0m                                 Traceback (most recent call last)",
      "\u001b[0;32m~/opt/anaconda3/lib/python3.8/site-packages/IPython/core/interactiveshell.py\u001b[0m in \u001b[0;36msoftspace\u001b[0;34m(file, newvalue)\u001b[0m\n\u001b[1;32m    232\u001b[0m \u001b[0;31m#-----------------------------------------------------------------------------\u001b[0m\u001b[0;34m\u001b[0m\u001b[0;34m\u001b[0m\u001b[0;34m\u001b[0m\u001b[0m\n\u001b[1;32m    233\u001b[0m \u001b[0;34m\u001b[0m\u001b[0m\n\u001b[0;32m--> 234\u001b[0;31m \u001b[0;34m@\u001b[0m\u001b[0mundoc\u001b[0m\u001b[0;34m\u001b[0m\u001b[0;34m\u001b[0m\u001b[0m\n\u001b[0m\u001b[1;32m    235\u001b[0m \u001b[0;32mdef\u001b[0m \u001b[0msoftspace\u001b[0m\u001b[0;34m(\u001b[0m\u001b[0mfile\u001b[0m\u001b[0;34m,\u001b[0m \u001b[0mnewvalue\u001b[0m\u001b[0;34m)\u001b[0m\u001b[0;34m:\u001b[0m\u001b[0;34m\u001b[0m\u001b[0;34m\u001b[0m\u001b[0m\n\u001b[1;32m    236\u001b[0m     \u001b[0;34m\"\"\"Copied from code.py, to remove the dependency\"\"\"\u001b[0m\u001b[0;34m\u001b[0m\u001b[0;34m\u001b[0m\u001b[0m\n",
      "\u001b[0;31mTypeError\u001b[0m: 'module' object is not callable"
     ]
    }
   ],
   "source": [
    "import sys\n",
    "from importlib import import_module     \n",
    "\n",
    "libnames = ['ok']\n",
    "for libname in libnames:\n",
    "    try:\n",
    "        sys.settrace(import_module(libname))\n",
    "    except:\n",
    "        print(sys.exc_info())\n",
    "        print(dir(libname.__dict__))\n",
    "    else:\n",
    "        globals()[libname] = lib"
   ]
  },
  {
   "cell_type": "code",
   "execution_count": 74,
   "id": "644d62c8",
   "metadata": {},
   "outputs": [
    {
     "name": "stdout",
     "output_type": "stream",
     "text": [
      "Exception type : SyntaxError \n",
      "Line 7\n"
     ]
    }
   ],
   "source": [
    "\n",
    "try:\n",
    "    exec('import broken')\n",
    "except Exception as ex:\n",
    "    line = \n",
    "    print(\"Line\", ex.args[1][1])\n"
   ]
  },
  {
   "cell_type": "code",
   "execution_count": 187,
   "id": "168fc54b",
   "metadata": {},
   "outputs": [],
   "source": [
    "mycode = []\n",
    "with open(\"broken.py\", \"r\") as f:\n",
    "    lines = f.readlines()\n",
    "with open(\"broken.py\", \"w\") as f:\n",
    "    for i, line in enumerate(lines):\n",
    "        if i != 6:\n",
    "            mycode.append(line)"
   ]
  },
  {
   "cell_type": "code",
   "execution_count": 230,
   "id": "d551850a",
   "metadata": {},
   "outputs": [
    {
     "name": "stdout",
     "output_type": "stream",
     "text": [
      "lines ['def foo(): \\n', '    return 1 \\n', 'refrigerator \\n', 'raise TypeError(’I can\\\\’t type!’) \\n', 'def bar(): \\n', '    return 2\\n']\n"
     ]
    }
   ],
   "source": [
    "ldict = {}\n",
    "\n",
    "with open(\"broken.py\", \"r\") as f:\n",
    "    lines = [line for line in f.readlines() if line.strip() != '']\n",
    "\n",
    "print('lines', lines)\n"
   ]
  },
  {
   "cell_type": "code",
   "execution_count": 265,
   "id": "0523608f",
   "metadata": {},
   "outputs": [],
   "source": [
    "def force_load(func_name):\n",
    "    ldict = {}\n",
    "\n",
    "    with open(f'{func_name}.py', 'r') as f:\n",
    "        lines = [line for line in f.readlines() if line.strip() != '']\n",
    "\n",
    "    while not ldict:\n",
    "        try:\n",
    "            exec(''.join(lines), globals(), ldict)\n",
    "        except Exception as e:\n",
    "            e_type, e_object, e_traceback = sys.exc_info()\n",
    "            e_message = str(e)\n",
    "            e_line_number = e_traceback.tb_lineno\n",
    "            del lines[e_line_number-7]\n",
    "    return ldict\n"
   ]
  },
  {
   "cell_type": "code",
   "execution_count": 266,
   "id": "56a6f72e",
   "metadata": {},
   "outputs": [
    {
     "name": "stdout",
     "output_type": "stream",
     "text": [
      "{'foo': <function foo at 0x7feb44d9c9d0>, 'bar': <function bar at 0x7feb44eaec10>}\n"
     ]
    }
   ],
   "source": [
    "print(force_load('broken'))"
   ]
  },
  {
   "cell_type": "code",
   "execution_count": 258,
   "id": "e40c964a",
   "metadata": {},
   "outputs": [
    {
     "data": {
      "text/plain": [
       "{'foo': <function __main__.foo()>}"
      ]
     },
     "execution_count": 258,
     "metadata": {},
     "output_type": "execute_result"
    }
   ],
   "source": [
    "ldict"
   ]
  },
  {
   "cell_type": "code",
   "execution_count": 261,
   "id": "7e71eb78",
   "metadata": {},
   "outputs": [
    {
     "name": "stdout",
     "output_type": "stream",
     "text": [
      "exception line number: 8\n",
      "exception line number: 8\n"
     ]
    }
   ],
   "source": [
    "    ldict = {}\n",
    "\n",
    "    with open(f'broken.py', 'r') as f:\n",
    "        lines = [line for line in f.readlines() if line.strip() != '']\n",
    "\n",
    "    while not ldict:\n",
    "        try:\n",
    "            exec(''.join(lines), globals(), ldict)\n",
    "        except Exception as e:\n",
    "            e_type, e_object, e_traceback = sys.exc_info()\n",
    "            e_message = str(e)\n",
    "            e_line_number = e_traceback.tb_lineno\n",
    "            print(f'exception line number: {e_line_number}')\n",
    "            del lines[e_line_number-6]"
   ]
  },
  {
   "cell_type": "code",
   "execution_count": 262,
   "id": "fee5a271",
   "metadata": {},
   "outputs": [
    {
     "data": {
      "text/plain": [
       "{'foo': <function __main__.foo()>, 'bar': <function __main__.bar()>}"
      ]
     },
     "execution_count": 262,
     "metadata": {},
     "output_type": "execute_result"
    }
   ],
   "source": [
    "ldict"
   ]
  },
  {
   "cell_type": "code",
   "execution_count": null,
   "id": "344a9428",
   "metadata": {},
   "outputs": [],
   "source": []
  }
 ],
 "metadata": {
  "kernelspec": {
   "display_name": "Python 3",
   "language": "python",
   "name": "python3"
  },
  "language_info": {
   "codemirror_mode": {
    "name": "ipython",
    "version": 3
   },
   "file_extension": ".py",
   "mimetype": "text/x-python",
   "name": "python",
   "nbconvert_exporter": "python",
   "pygments_lexer": "ipython3",
   "version": "3.8.8"
  }
 },
 "nbformat": 4,
 "nbformat_minor": 5
}
