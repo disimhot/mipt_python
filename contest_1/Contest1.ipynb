{
 "cells": [
  {
   "cell_type": "markdown",
   "id": "a4e6ade0",
   "metadata": {},
   "source": [
    "1) Вася и Петя завели общий почтовый ящик и договорились, что паролем от него будет число a mod b. Пароль утверждал Петя, который использовал для подсчётов язык С++. Он забыл, что если a отрицательное, а b — положительное, то остаток от деления будет равен , то есть будет отрицательным, вопреки определению (такой он загадочный, этот C++). Помогите питонисту Васе восстановить пароль.\n",
    "\n",
    "Формат ввода\n",
    "Даны два целых числа, разделённые переводом строки. -1018 ≤ a ≤ 1018, 0<b<1018.\n",
    "\n",
    "Формат вывода\n",
    "Выведите одно целое число — пароль к почтовому ящику."
   ]
  },
  {
   "cell_type": "code",
   "execution_count": 9,
   "id": "caad172c",
   "metadata": {},
   "outputs": [
    {
     "name": "stdout",
     "output_type": "stream",
     "text": [
      "-7\n",
      "2\n",
      "-1\n"
     ]
    }
   ],
   "source": [
    "a = int(input())\n",
    "b = int(input())\n",
    "\n",
    "res= a%b\n",
    "\n",
    "if a >= 0:\n",
    "    print(res)\n",
    "else:\n",
    "    print(-res)"
   ]
  },
  {
   "cell_type": "markdown",
   "id": "2ea53b79",
   "metadata": {},
   "source": [
    "2) Вася и Петя решили придумать более сложный пароль для своего почтового ящика. Они решили взять числа a и b и записать подряд без пробелов числа a+b, ab и a ⋅ b. Ваша задача - помочь им.\n",
    "\n",
    "Формат ввода\n",
    "Даны два целых числа, разделённые переводом строки. -10100 ≤ a ≤ 10100, 0<b<1000.\n",
    "\n",
    "Формат вывода\n",
    "Выведите одно целое число — новый пароль от почтового ящика Пети и Васи."
   ]
  },
  {
   "cell_type": "code",
   "execution_count": 46,
   "id": "fdc36a81",
   "metadata": {},
   "outputs": [
    {
     "ename": "AttributeError",
     "evalue": "module 'sys' has no attribute 'set_int_max_str_digits'",
     "output_type": "error",
     "traceback": [
      "\u001b[0;31m---------------------------------------------------------------------------\u001b[0m",
      "\u001b[0;31mAttributeError\u001b[0m                            Traceback (most recent call last)",
      "\u001b[0;32m<ipython-input-46-7bd07c331a15>\u001b[0m in \u001b[0;36m<module>\u001b[0;34m\u001b[0m\n\u001b[1;32m      1\u001b[0m \u001b[0;32mimport\u001b[0m \u001b[0msys\u001b[0m\u001b[0;34m\u001b[0m\u001b[0;34m\u001b[0m\u001b[0m\n\u001b[0;32m----> 2\u001b[0;31m \u001b[0msys\u001b[0m\u001b[0;34m.\u001b[0m\u001b[0mset_int_max_str_digits\u001b[0m\u001b[0;34m(\u001b[0m\u001b[0;36m100000000\u001b[0m\u001b[0;34m)\u001b[0m\u001b[0;34m\u001b[0m\u001b[0;34m\u001b[0m\u001b[0m\n\u001b[0m\u001b[1;32m      3\u001b[0m \u001b[0ma\u001b[0m \u001b[0;34m=\u001b[0m \u001b[0mint\u001b[0m\u001b[0;34m(\u001b[0m\u001b[0minput\u001b[0m\u001b[0;34m(\u001b[0m\u001b[0;34m)\u001b[0m\u001b[0;34m)\u001b[0m\u001b[0;34m\u001b[0m\u001b[0;34m\u001b[0m\u001b[0m\n\u001b[1;32m      4\u001b[0m \u001b[0mb\u001b[0m \u001b[0;34m=\u001b[0m \u001b[0mint\u001b[0m\u001b[0;34m(\u001b[0m\u001b[0minput\u001b[0m\u001b[0;34m(\u001b[0m\u001b[0;34m)\u001b[0m\u001b[0;34m)\u001b[0m\u001b[0;34m\u001b[0m\u001b[0;34m\u001b[0m\u001b[0m\n\u001b[1;32m      5\u001b[0m \u001b[0ms\u001b[0m \u001b[0;34m=\u001b[0m \u001b[0mstr\u001b[0m\u001b[0;34m(\u001b[0m\u001b[0ma\u001b[0m \u001b[0;34m+\u001b[0m \u001b[0mb\u001b[0m\u001b[0;34m)\u001b[0m\u001b[0;34m\u001b[0m\u001b[0;34m\u001b[0m\u001b[0m\n",
      "\u001b[0;31mAttributeError\u001b[0m: module 'sys' has no attribute 'set_int_max_str_digits'"
     ]
    }
   ],
   "source": [
    "import sys\n",
    "sys.set_int_max_str_digits(100000000)\n",
    "a = int(input())\n",
    "b = int(input())\n",
    "s = str(a + b)\n",
    "p = str(a**b)\n",
    "m = str(a * b)\n",
    "\n",
    "print(f'{s}{p}{m}')"
   ]
  },
  {
   "cell_type": "markdown",
   "id": "257bab96",
   "metadata": {},
   "source": [
    "Бухгалтер Зинаида Марковна пытается отправить в техподдержку программы \"2ДКонтора\" жалобу на некорректную работу программы, которая не даёт ей составить квартальный отчёт. Окошко для сообщения на сайте техподдержки имеет ширину \n",
    "a\n",
    "a, то есть в одной строке помещается не более a символов (не считая символа перевода строки, то есть разместить строку длины \n",
    "a\n",
    "+\n",
    "1\n",
    "a+1, в которой последний символ — перевод строки, возможно).\n",
    "\n",
    "Также для того, чтобы сообщение было принято, оно должно быть корректно отформатировано, а именно:\n",
    "\n",
    "В одной строке допускается наличие не более \n",
    "b\n",
    "b слов,\n",
    "Соседние слова в строке разделяются ровно одним пробелом.\n",
    "Каждая строка должна завершаться ровно одним переводом строки.\n",
    "Первый символ строки, а также символ перед переводом строки не могут быть пробелами.\n",
    "Если очередное слово можно добавить в текущую строку так, чтобы выполнялись все предыдущие пункты и строка не переполнилась, то его необходимо в неё добавить. Если эти критерии не выполнены, строка не принимается."
   ]
  },
  {
   "cell_type": "code",
   "execution_count": 91,
   "id": "30fbedb2",
   "metadata": {},
   "outputs": [
    {
     "name": "stdout",
     "output_type": "stream",
     "text": [
      "['a s v', 'd']\n"
     ]
    }
   ],
   "source": [
    "def format_mes(wdth, max_num, mes_list):\n",
    "    formatted = []\n",
    "    cut_max_num = max_num\n",
    "\n",
    "    for m in mes_list:\n",
    "        if wdth == 1:\n",
    "            return mes_list\n",
    "        else:\n",
    "            for i in reversed(range(cut_max_num + 1)):\n",
    "                cut_list = mes_list[0:cut_max_num]\n",
    "                line = \" \".join(cut_list)\n",
    "                if (len(line)) <= wdth:\n",
    "                    formatted.append(line)\n",
    "                    mes_list = mes_list[cut_max_num:len(mes_list)]\n",
    "                    cut_max_num = max_num\n",
    "                    break\n",
    "                else:\n",
    "                    cut_max_num -=1\n",
    "    formatted = [s for s in formatted if len(s) > 0]\n",
    "    return formatted\n",
    "\n",
    "\n",
    "\n",
    "with open('input.txt', 'r') as fin:\n",
    "    lines = [line.rstrip() for line in fin]\n",
    "    lines = lines[:-1]\n",
    "    a, b, *text = lines\n",
    "\n",
    "formatted_mes = format_mes(int(a), int(b), text)\n",
    "\n",
    "with open('output.txt', 'w') as fout:\n",
    "    for i, line in enumerate(formatted_mes):\n",
    "        if i == (len(formatted_mes) - 1):\n",
    "            fout.write(f'{line}')\n",
    "        else:\n",
    "            fout.write(f'{line}\\n')\n",
    "\n",
    "    \n",
    "fin.close()\n",
    "fout.close()"
   ]
  },
  {
   "cell_type": "markdown",
   "id": "56b7252b",
   "metadata": {},
   "source": [
    "Офис сервиса shark.olymp был когда-то давно спроектирован выдающимся архитектором Василием Аладдиновичем Непутёвым. В центре серверной офиса стоит колонна. Сисадмин Пахом повесил под потолком прямоугольный роутер, однако из-за колонны интернет работает плохо. Вася и Петя решили повесить второй, точно такой же роутер, причём так, чтобы он висел симметрично первому роутеру относительно колонны. К счастью, потолок серверной был оклеен миллиметровкой с координатами.\n",
    "\n",
    "Вася и Петя, используя дизайн потолка, определили координаты двух противоположных углов роутера и координаты центра колонны. Корпус роутера был параллелен линиям на миллиметровке. Однако не исключено, что миллиметровка вокруг колонны была наклеена неправильно. Несмотря на то, что колонна очень узкая, её центр не может лежать внутри или на границе роутера.\n",
    "\n",
    "Помогите ребятам: проверьте, правильно ли определены координаты колонны, и вычислите координаты нового роутера.\n",
    "\n",
    "Формат ввода\n",
    "Даны шесть целых чисел, разделённые переводами строки. Все числа во входных данных по абсолютной величине не превосходят \n",
    "1\n",
    "0\n",
    "9\n",
    "10 \n",
    "9\n",
    " . Первые два числа — координаты \n",
    "x\n",
    "a\n",
    "x \n",
    "a\n",
    "​\n",
    "  и \n",
    "y\n",
    "a\n",
    "y \n",
    "a\n",
    "​\n",
    "  одного из углов роутера — точки A, третье и четвёртое числа — координаты \n",
    "x\n",
    "b\n",
    "x \n",
    "b\n",
    "​\n",
    "  и \n",
    "y\n",
    "b\n",
    "y \n",
    "b\n",
    "​\n",
    "  противоположного первому угла роутера — точки B. Два последних числа — координаты колонны \n",
    "x\n",
    "c\n",
    "x \n",
    "c\n",
    "​\n",
    "  и \n",
    "y\n",
    "c\n",
    "y \n",
    "c\n",
    "​\n",
    "  (проекцию колонны на потолок считаем точкой). Гарантируется, что роутер имеет ненулевую площадь.\n",
    "\n"
   ]
  },
  {
   "cell_type": "code",
   "execution_count": 16,
   "id": "d2d900e6",
   "metadata": {},
   "outputs": [],
   "source": [
    "def find_coordinates(x_a, y_a, x_b, y_b, x_c, y_c):\n",
    "    if (x_c == x_a or x_c == x_b) or (y_c == y_a or y_c == y_b):\n",
    "        return False\n",
    "    else:\n",
    "        simm_x_a = 2*x_c - x_a\n",
    "        simm_y_a = 2*y_c - y_a\n",
    "        simm_x_b = 2*x_c - x_b\n",
    "        simm_y_b = 2*y_c - y_b\n",
    "        return [simm_x_a, simm_y_a, simm_x_b, simm_y_b]\n",
    "\n",
    "with open('input.txt', 'r') as fin:\n",
    "    coord = [int(line.rstrip()) for line in fin]\n",
    "\n",
    "\n",
    "res = find_coordinates(*coord)\n",
    "# print(res)\n",
    "with open('output.txt', 'w') as fout:\n",
    "    if res == False:\n",
    "        fout.write(f'False\\n')\n",
    "    else:\n",
    "        for c in res:\n",
    "            fout.write(f'{c}\\n')\n",
    "    \n",
    "fin.close()\n",
    "fout.close()"
   ]
  },
  {
   "cell_type": "code",
   "execution_count": null,
   "id": "891a7fdc",
   "metadata": {},
   "outputs": [],
   "source": []
  },
  {
   "cell_type": "markdown",
   "id": "f0e60447",
   "metadata": {},
   "source": [
    "Это интерактивная задача.\n",
    "На плоскости отмечены все целые точки с координатами, не превосходящими \n",
    "1\n",
    "0\n",
    "6\n",
    ". Перемещение происходит по линиям, параллельным координатным осям (то есть расстояние между двумя точками с координатами \n",
    "(\n",
    "x\n",
    "1\n",
    ",\n",
    "y\n",
    "1\n",
    ")\n",
    " и \n",
    "(\n",
    "x\n",
    "2\n",
    ",\n",
    "y\n",
    "2\n",
    ")\n",
    " равно \n",
    "|\n",
    "(\n",
    "x\n",
    "1\n",
    "−\n",
    "x\n",
    "2\n",
    ")\n",
    "|\n",
    "+\n",
    "|\n",
    "(\n",
    "y\n",
    "1\n",
    "−\n",
    "y\n",
    "2\n",
    ")\n",
    "|\n",
    ").\n",
    "Загадана неизвестная отмеченная точка \n",
    "A\n",
    ". Вы можете за один запрос узнать расстояние от любой выбранной отмеченной точки до точки \n",
    "A\n",
    ".\n",
    "Изначально планировалось, что Вы должны угадать координаты точки \n",
    "A\n",
    " за не более \n",
    "Q\n",
    " запросов. Однако интерактор поломался, и \n",
    "Q\n",
    " перестало выводиться. Однако и в таком виде задачу можно решить, что Вас и просят сделать. Известно, что \n",
    "2\n",
    "≤\n",
    "Q\n",
    "≤\n",
    "1\n",
    "0\n",
    ".\n",
    "Протокол взаимодействия\n",
    "\n",
    "Ваша программа делает запросы в формате ‘?’ \n",
    "X\n",
    " \n",
    "Y\n",
    " — узнать расстояние от точки с координатами \n",
    "(\n",
    "X\n",
    ",\n",
    "Y\n",
    ")\n",
    " до загаданной точки (\n",
    "−\n",
    "1\n",
    "0\n",
    "6\n",
    "≤\n",
    "X\n",
    ",\n",
    "Y\n",
    "≤\n",
    "1\n",
    "0\n",
    "6\n",
    "). Если вы готовы вывести ответ, то используйте формат ‘!’ \n",
    "X\n",
    " \n",
    "Y\n",
    " (\n",
    "X\n",
    " и \n",
    "Y\n",
    " — координаты загаданной точки), после чего завершите работу программы. Вывод ответа за запрос не считается.\n",
    "После каждого запроса и вывода ответа не забывайте выводить символ конца строки, а также сбрасывать буфер вывода, используя stdout.flush()."
   ]
  },
  {
   "cell_type": "code",
   "execution_count": 46,
   "id": "9f62fe8f",
   "metadata": {},
   "outputs": [
    {
     "name": "stdout",
     "output_type": "stream",
     "text": [
      "? -1000000 -1000000\n",
      "1000000\n",
      "? 1000000 1000000\n",
      "2985984\n",
      "(-282483, -1696541)\n",
      "(-1696541, -282483)\n",
      "! -1696541 -282483 \n",
      "\n"
     ]
    }
   ],
   "source": [
    "import sys\n",
    "import math\n",
    "\n",
    "x0, y0 = (10)**6, -10**6\n",
    "x1, y1 = (10)**6, 10**6\n",
    "\n",
    "distances = []\n",
    "\n",
    "def get_intersections(r0, r1):\n",
    "    # circle 1: (x0, y0), radius r0\n",
    "    # circle 2: (x1, y1), radius r1\n",
    "\n",
    "    d=math.sqrt((x1-x0)**2 + (y1-y0)**2)\n",
    "    a=(r0**2-r1**2+d**2)/(2*d)\n",
    "    h=math.sqrt((r0**2-a**2))\n",
    "    x2=round(x0+a*(x1-x0)/d)\n",
    "    y2=round(y0+a*(y1-y0)/d)\n",
    "    \n",
    "    x3=round(x2+h*(y1-y0)/d)    \n",
    "    y3=round(y2-h*(x1-x0)/d)\n",
    "    x4=round(x2-h*(y1-y0)/d)\n",
    "    y4=round(y2+h*(x1-x0)/d)\n",
    "    if x3 >= -10**6 or x3 <= 10**6 or y3 >= -10**6 or y3 <=10**6:\n",
    "        return (x3, y3)\n",
    "    else:\n",
    "        return (x4, y4)\n",
    "    \n",
    "\n",
    "for x, y in [(x0, y0), (x1, y1)]:\n",
    "    print(f'? {x} {y}')\n",
    "    d = int(input())\n",
    "    distances.append(d)\n",
    "\n",
    "res = get_intersections(*distances)\n",
    "\n",
    "print(f'! {res[0]} {res[1]} \\n')\n",
    "\n",
    "sys.stdout.flush()"
   ]
  },
  {
   "cell_type": "code",
   "execution_count": 54,
   "id": "df7bf210",
   "metadata": {},
   "outputs": [
    {
     "name": "stdout",
     "output_type": "stream",
     "text": [
      "? 1000000 -1000000\n",
      "10000000\n",
      "? 1000000 1000000\n",
      "1000000\n",
      "! -3500000 4500000 \n",
      "\n"
     ]
    }
   ],
   "source": [
    "import sys\n",
    "import math\n",
    "\n",
    "x0, y0 = (10)**6, -10**6\n",
    "x1, y1 = (10)**6, 10**6\n",
    "\n",
    "distances = []\n",
    "\n",
    "def get_point(r0, r1):\n",
    "    d = r0 + r1\n",
    "    proj_x = int((d - 2*x0) / 2)\n",
    "    x = x1 - proj_x\n",
    "    proj_y = r1 - proj_x\n",
    "    y = y1 - proj_y\n",
    "    return (x,y)\n",
    "    \n",
    "\n",
    "for x, y in [(x0, y0), (x1, y1)]:\n",
    "    print(f'? {x} {y}')\n",
    "    d = int(input())\n",
    "    distances.append(d)\n",
    "\n",
    "res = get_point(*distances)\n",
    "\n",
    "print(f'! {res[0]} {res[1]} \\n')\n",
    "\n",
    "sys.stdout.flush()"
   ]
  },
  {
   "cell_type": "code",
   "execution_count": 56,
   "id": "276ca5ed",
   "metadata": {},
   "outputs": [
    {
     "data": {
      "text/plain": [
       "3"
      ]
     },
     "execution_count": 56,
     "metadata": {},
     "output_type": "execute_result"
    }
   ],
   "source": [
    "15//4"
   ]
  },
  {
   "cell_type": "code",
   "execution_count": 59,
   "id": "835c6f89",
   "metadata": {},
   "outputs": [
    {
     "data": {
      "text/plain": [
       "1000000"
      ]
     },
     "execution_count": 59,
     "metadata": {},
     "output_type": "execute_result"
    }
   ],
   "source": [
    "1000000"
   ]
  },
  {
   "cell_type": "code",
   "execution_count": 60,
   "id": "eef9b266",
   "metadata": {},
   "outputs": [
    {
     "data": {
      "text/plain": [
       "1000000"
      ]
     },
     "execution_count": 60,
     "metadata": {},
     "output_type": "execute_result"
    }
   ],
   "source": [
    "x0"
   ]
  },
  {
   "cell_type": "code",
   "execution_count": null,
   "id": "01117432",
   "metadata": {},
   "outputs": [],
   "source": []
  }
 ],
 "metadata": {
  "kernelspec": {
   "display_name": "Python 3",
   "language": "python",
   "name": "python3"
  },
  "language_info": {
   "codemirror_mode": {
    "name": "ipython",
    "version": 3
   },
   "file_extension": ".py",
   "mimetype": "text/x-python",
   "name": "python",
   "nbconvert_exporter": "python",
   "pygments_lexer": "ipython3",
   "version": "3.8.8"
  }
 },
 "nbformat": 4,
 "nbformat_minor": 5
}
